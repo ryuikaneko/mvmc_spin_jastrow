{
  "nbformat": 4,
  "nbformat_minor": 0,
  "metadata": {
    "colab": {
      "name": "mvmc_spin_jastrow.ipynb",
      "provenance": [],
      "collapsed_sections": []
    },
    "kernelspec": {
      "name": "python3",
      "display_name": "Python 3"
    }
  },
  "cells": [
    {
      "cell_type": "code",
      "metadata": {
        "id": "eNOKkD9uNYvM",
        "colab_type": "code",
        "colab": {}
      },
      "source": [
        "!wget https://github.com/issp-center-dev/mVMC/releases/download/v1.1.1/mVMC-1.1.1.tar.gz\n",
        "!tar xzvf mVMC-1.1.1.tar.gz\n",
        "!mv mVMC mVMC-1.1.1\n",
        "### apply the patch\n",
        "%cd mVMC-1.1.1/src/mVMC\n",
        "!wget https://raw.githubusercontent.com/ryuikaneko/mvmc_spin_jastrow/master/mVMC-1.1.1__spin_jastrow_only__sz_nonfixed_only/src/mVMC/projection.patch\n",
        "!patch -u projection.c < projection.patch\n",
        "%cd ../../../\n",
        "### end of apply the patch\n",
        "!mkdir -p mVMC-1.1.1.build\n",
        "%cd mVMC-1.1.1.build/\n",
        "### fix bug in mVMC-1.1.1\n",
        "!sed -i 's/shared(eleCfg, eleProjCnt, eleIdx, eleNum, ip)/shared(eleCfg, eleProjCnt, eleIdx, eleNum)/g' ../mVMC-1.1.1/src/mVMC/include/../calham.c\n",
        "!sed -i 's/shared(eleCfg, eleProjCnt, eleIdx, eleNum, ip)/shared(eleCfg, eleProjCnt, eleIdx, eleNum)/g' ../mVMC-1.1.1/src/mVMC/include/../calham_real.c\n",
        "### end of fix bug in mVMC-1.1.1\n",
        "!cmake ../mVMC-1.1.1/\n",
        "!make"
      ],
      "execution_count": 0,
      "outputs": []
    }
  ]
}